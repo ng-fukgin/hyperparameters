{
 "cells": [
  {
   "cell_type": "code",
   "execution_count": null,
   "id": "cognitive-fault",
   "metadata": {},
   "outputs": [],
   "source": [
    "import requests,yaml # pip install requests, pip install pyyaml\n",
    "from os import getcwd # 导入当前工作目录\n",
    "from yacs.config import CfgNode # pip install yacs\n",
    "\n",
    "url='https://raw.githubusercontent.com/ng-fukgin/hyperparameters/main/stocks.yaml' # 从github上下载配置文件\n",
    "directory = getcwd() # 获取当前工作目录\n",
    "filename = directory + 'stocks.yaml' # 拼接文件名\n",
    "r = requests.get(url) # 下载文件\n",
    "\n",
    "f = open(filename, 'w') # 写入文件\n",
    "f.write(r.text) # 写入文件\n",
    "with open(filename) as f: # 读取文件\n",
    "    config = CfgNode(yaml.safe_load(f)) # 读取文件\n",
    "download_config=config['download'] # 读取下载配置\n",
    "SHA_name=download_config.SHA_name # 读取下载配置"
   ]
  }
 ],
 "metadata": {
  "kernelspec": {
   "display_name": "Python 3.9.7 ('base')",
   "language": "python",
   "name": "python3"
  },
  "language_info": {
   "codemirror_mode": {
    "name": "ipython",
    "version": 3
   },
   "file_extension": ".py",
   "mimetype": "text/x-python",
   "name": "python",
   "nbconvert_exporter": "python",
   "pygments_lexer": "ipython3",
   "version": "3.9.7"
  },
  "vscode": {
   "interpreter": {
    "hash": "ad2bdc8ecc057115af97d19610ffacc2b4e99fae6737bb82f5d7fb13d2f2c186"
   }
  }
 },
 "nbformat": 4,
 "nbformat_minor": 5
}
